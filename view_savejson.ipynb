{
 "cells": [
  {
   "cell_type": "code",
   "execution_count": 1,
   "id": "e022bb6b",
   "metadata": {},
   "outputs": [],
   "source": [
    "import json"
   ]
  },
  {
   "cell_type": "code",
   "execution_count": 2,
   "id": "09372ba8",
   "metadata": {},
   "outputs": [],
   "source": [
    "with open(\"CSN_python_func_code_string_top1000_norm.save.json\",'r') as f:\n",
    "    data = f.readlines()\n",
    "    data = [json.loads(e) for e in data]"
   ]
  },
  {
   "cell_type": "code",
   "execution_count": 9,
   "id": "85f69858",
   "metadata": {},
   "outputs": [
    {
     "data": {
      "text/plain": [
       "{'loss': [1.4532530307769775,\n",
       "  1.4039366245269775,\n",
       "  2.4906952381134033,\n",
       "  1.3396759033203125],\n",
       " 'NextToken_accnum': [442.0, 742.0, 139.0, 314.0],\n",
       " 'nonzero_token_num': [642, 1058, 270, 469],\n",
       " 'mean_loss': 1.5248664617538452,\n",
       " 'ids': [0, 1, 2, 3]}"
      ]
     },
     "execution_count": 9,
     "metadata": {},
     "output_type": "execute_result"
    }
   ],
   "source": [
    "data[-int(1000/4)]"
   ]
  },
  {
   "cell_type": "code",
   "execution_count": 7,
   "id": "19fd7b09",
   "metadata": {},
   "outputs": [
    {
     "data": {
      "text/plain": [
       "{'loss': [1.4532530307769775,\n",
       "  1.4039366245269775,\n",
       "  2.4906952381134033,\n",
       "  1.3396759033203125,\n",
       "  1.4583226442337036,\n",
       "  1.2046430110931396,\n",
       "  1.6799004077911377,\n",
       "  1.0678565502166748],\n",
       " 'NextToken_accnum': [442.0, 742.0, 139.0, 314.0, 372.0, 231.0, 120.0, 274.0],\n",
       " 'nonzero_token_num': [642, 1058, 270, 469, 566, 304, 183, 356],\n",
       " 'mean_loss': 1.454872727394104,\n",
       " 'ids': [0, 1, 2, 3, 4, 5, 6, 7]}"
      ]
     },
     "execution_count": 7,
     "metadata": {},
     "output_type": "execute_result"
    }
   ],
   "source": [
    "data[0]"
   ]
  },
  {
   "cell_type": "code",
   "execution_count": 10,
   "id": "0e09396c",
   "metadata": {},
   "outputs": [
    {
     "name": "stdout",
     "output_type": "stream",
     "text": [
      "1.4548726366859959\n"
     ]
    }
   ],
   "source": [
    "item = data[0]\n",
    "sum_loss = [item['loss'][i] * item['nonzero_token_num'][i] for i in range(len(item['loss']))]\n",
    "sum_loss = sum(sum_loss)\n",
    "mean_loss = sum_loss / sum(item['nonzero_token_num'])\n",
    "print(mean_loss)"
   ]
  },
  {
   "cell_type": "code",
   "execution_count": null,
   "id": "8d3a6997",
   "metadata": {},
   "outputs": [],
   "source": []
  },
  {
   "cell_type": "code",
   "execution_count": 4,
   "id": "1f22b48d",
   "metadata": {},
   "outputs": [],
   "source": [
    "def relative_improment(origin_loss, new_loss):\n",
    "    return (new_loss - origin_loss) / origin_loss"
   ]
  },
  {
   "cell_type": "code",
   "execution_count": 5,
   "id": "1890aa14",
   "metadata": {},
   "outputs": [
    {
     "data": {
      "text/plain": [
       "0.030697296198414416"
      ]
     },
     "execution_count": 5,
     "metadata": {},
     "output_type": "execute_result"
    }
   ],
   "source": [
    "relative_improment(49.19, 50.7)"
   ]
  },
  {
   "cell_type": "code",
   "execution_count": null,
   "id": "5a8dc858",
   "metadata": {},
   "outputs": [],
   "source": []
  }
 ],
 "metadata": {
  "kernelspec": {
   "display_name": "Python 3 (ipykernel)",
   "language": "python",
   "name": "python3"
  },
  "language_info": {
   "codemirror_mode": {
    "name": "ipython",
    "version": 3
   },
   "file_extension": ".py",
   "mimetype": "text/x-python",
   "name": "python",
   "nbconvert_exporter": "python",
   "pygments_lexer": "ipython3",
   "version": "3.8.16"
  }
 },
 "nbformat": 4,
 "nbformat_minor": 5
}
